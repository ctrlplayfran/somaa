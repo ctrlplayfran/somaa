{
 "cells": [
  {
   "cell_type": "code",
   "execution_count": null,
   "id": "6c3a43b8-0e91-4204-a3ee-7389dea80f7d",
   "metadata": {},
   "outputs": [],
   "source": [
    "a = float(input(\"digite o valor de a: \"))\n",
    "b = float(input(\"digite o valor de b: \"))\n",
    "soma = a+b\n",
    "print(soma)"
   ]
  }
 ],
 "metadata": {
  "kernelspec": {
   "display_name": "Python 3 (ipykernel)",
   "language": "python",
   "name": "python3"
  },
  "language_info": {
   "codemirror_mode": {
    "name": "ipython",
    "version": 3
   },
   "file_extension": ".py",
   "mimetype": "text/x-python",
   "name": "python",
   "nbconvert_exporter": "python",
   "pygments_lexer": "ipython3",
   "version": "3.12.7"
  }
 },
 "nbformat": 4,
 "nbformat_minor": 5
}
